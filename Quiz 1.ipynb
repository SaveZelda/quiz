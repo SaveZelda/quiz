{
 "cells": [
  {
   "cell_type": "code",
   "execution_count": 1,
   "metadata": {},
   "outputs": [],
   "source": [
    "# Rows, Columns, Diagonals\n",
    "def check_circle_winner(circle,board):\n",
    "    return((board[0][0]==circle and board[0][1]==circle and board[0][2]==circle)or \n",
    "\n",
    "            (board[1][0]==circle and board[1][1]==circle and board[1][2]==circle)or \n",
    "\n",
    "            (board[2][0]==circle and board[2][1]==circle and board[2][2]==circle)or\n",
    "          \n",
    "            (board[0][0]==circle and board[1][0]==circle and board[2][0]==circle)or\n",
    "           \n",
    "            (board[0][1]==circle and board[1][1]==circle and board[2][1]==circle)or\n",
    "           \n",
    "            (board[0][1]==circle and board[1][1]==circle and board[2][1]==circle)or\n",
    "           \n",
    "            (board[0][0]==circle and board[1][1]==circle and board[2][2]==circle)or\n",
    "\n",
    "            (board[0][2]==circle and board[1][1]==circle and board[2][0]==circle))"
   ]
  },
  {
   "cell_type": "code",
   "execution_count": 2,
   "metadata": {},
   "outputs": [],
   "source": [
    "def check_cross_winner(cross,board):\n",
    "    return((board[0][0]==cross and board[0][1]==cross and board[0][2]==cross)or \n",
    "\n",
    "            (board[1][0]==cross and board[1][1]==cross and board[1][2]==cross)or \n",
    "\n",
    "            (board[2][0]==cross and board[2][1]==cross and board[2][2]==cross)or\n",
    "          \n",
    "            (board[0][0]==cross and board[1][0]==cross and board[2][0]==cross)or\n",
    "           \n",
    "            (board[0][1]==cross and board[1][1]==cross and board[2][1]==cross)or\n",
    "           \n",
    "            (board[0][1]==cross and board[1][1]==cross and board[2][1]==cross)or\n",
    "           \n",
    "            (board[0][0]==cross and board[1][1]==cross and board[2][2]==cross)or\n",
    "\n",
    "            (board[0][2]==cross and board[1][1]==cross and board[2][0]==cross))"
   ]
  },
  {
   "cell_type": "code",
   "execution_count": 3,
   "metadata": {},
   "outputs": [],
   "source": [
    "def undecided(board):\n",
    "    ele = 0\n",
    "    for rows in board:\n",
    "        for elements in rows:\n",
    "            ele = ele + 1\n",
    "\n",
    "    if ele < 9:\n",
    "        return False\n",
    "    else:\n",
    "        return True"
   ]
  },
  {
   "cell_type": "code",
   "execution_count": 4,
   "metadata": {},
   "outputs": [],
   "source": [
    "def check_board_status(board):\n",
    "    circle = 'O'\n",
    "    cross = 'X'\n",
    "    if undecided(board) == False:\n",
    "        return('The game is still in progress/undecided')\n",
    "    elif check_cross_winner(cross,board) == True:\n",
    "        return('Cross wins')\n",
    "    elif check_circle_winner(circle,board) == True:\n",
    "        return('Circle wins')\n",
    "    else:\n",
    "        return('Draw')"
   ]
  },
  {
   "cell_type": "code",
   "execution_count": 5,
   "metadata": {},
   "outputs": [],
   "source": [
    "board_1 = [['O', 'O', 'X'],\n",
    "           ['X', 'X', 'O'],\n",
    "           ['O', 'X', 'O']]"
   ]
  },
  {
   "cell_type": "code",
   "execution_count": 6,
   "metadata": {},
   "outputs": [],
   "source": [
    "board_2 = [['O', 'O', 'O'],\n",
    "           ['X', 'X', 'O'],\n",
    "           ['O', 'X', 'X']]"
   ]
  },
  {
   "cell_type": "code",
   "execution_count": 7,
   "metadata": {},
   "outputs": [],
   "source": [
    "board_3 = [['X', 'O', 'O'],\n",
    "           ['O', 'X', 'O'],\n",
    "           ['O', 'X', 'X']]"
   ]
  },
  {
   "cell_type": "code",
   "execution_count": 8,
   "metadata": {},
   "outputs": [],
   "source": [
    "board_4 = [['X', 'O'],\n",
    "           ['O', 'X', 'O'],\n",
    "           ['O', 'X', 'X']]"
   ]
  },
  {
   "cell_type": "code",
   "execution_count": 9,
   "metadata": {},
   "outputs": [
    {
     "data": {
      "text/plain": [
       "'Draw'"
      ]
     },
     "execution_count": 9,
     "metadata": {},
     "output_type": "execute_result"
    }
   ],
   "source": [
    "# Draw\n",
    "check_board_status(board_1)"
   ]
  },
  {
   "cell_type": "code",
   "execution_count": 10,
   "metadata": {},
   "outputs": [
    {
     "data": {
      "text/plain": [
       "'Circle wins'"
      ]
     },
     "execution_count": 10,
     "metadata": {},
     "output_type": "execute_result"
    }
   ],
   "source": [
    "# Circle Wins\n",
    "check_board_status(board_2)"
   ]
  },
  {
   "cell_type": "code",
   "execution_count": 11,
   "metadata": {},
   "outputs": [
    {
     "data": {
      "text/plain": [
       "'Cross wins'"
      ]
     },
     "execution_count": 11,
     "metadata": {},
     "output_type": "execute_result"
    }
   ],
   "source": [
    "# Cross Wins\n",
    "check_board_status(board_3)"
   ]
  },
  {
   "cell_type": "code",
   "execution_count": 12,
   "metadata": {},
   "outputs": [
    {
     "data": {
      "text/plain": [
       "'The game is still in progress/undecided'"
      ]
     },
     "execution_count": 12,
     "metadata": {},
     "output_type": "execute_result"
    }
   ],
   "source": [
    "# Undecided\n",
    "check_board_status(board_4)"
   ]
  }
 ],
 "metadata": {
  "kernelspec": {
   "display_name": "Python 3",
   "language": "python",
   "name": "python3"
  },
  "language_info": {
   "codemirror_mode": {
    "name": "ipython",
    "version": 3
   },
   "file_extension": ".py",
   "mimetype": "text/x-python",
   "name": "python",
   "nbconvert_exporter": "python",
   "pygments_lexer": "ipython3",
   "version": "3.7.4"
  }
 },
 "nbformat": 4,
 "nbformat_minor": 4
}
